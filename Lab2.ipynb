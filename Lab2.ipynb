{
  "cells": [
    {
      "cell_type": "markdown",
      "id": "b7c2acc3-e78f-4a6c-8447-db245a8da285",
      "metadata": {
        "id": "b7c2acc3-e78f-4a6c-8447-db245a8da285"
      },
      "source": [
        "# **Tworzenie API we Flasku – Wprowadzenie**\n",
        "\n",
        "W tym ćwiczeniu nauczysz się, jak stworzyć proste API w Flasku, uruchomić je, wysyłać do niego zapytania oraz wykorzystać model decyzyjny w oparciu o podstawową regułę logiczną.\n",
        "\n",
        "## **1️⃣ Tworzenie podstawowego API**\n",
        "Najpierw utworzymy podstawową aplikację Flask.\n",
        "\n",
        "### **Zapisanie kodu API do pliku**\n",
        "W Jupyter Notebooku użyj magicznej komendy `%%file`, aby zapisać kod podstawowej aplikacji flask do pliku `app.py`: Kod znajdziesz na [cw1](https://sebkaz-teaching.github.io/RTA_2025/cw1.html)\n",
        "Jako tekst do wyświetlenie strony głównej użyj `Witaj w moim API!`."
      ]
    },
    {
      "cell_type": "code",
      "execution_count": 15,
      "id": "14c37263-583c-4c57-9454-7d1d93269999",
      "metadata": {
        "colab": {
          "base_uri": "https://localhost:8080/"
        },
        "id": "14c37263-583c-4c57-9454-7d1d93269999",
        "outputId": "99483c5f-96b3-4387-aeca-783aca8b7e4d"
      },
      "outputs": [
        {
          "output_type": "stream",
          "name": "stdout",
          "text": [
            "Overwriting app.py\n"
          ]
        }
      ],
      "source": [
        "%%file app.py\n",
        "from flask import Flask, jsonify\n",
        "\n",
        "app = Flask(__name__)\n",
        "\n",
        "@app.route('/')\n",
        "def home():\n",
        "    return jsonify({\"message\": \"Witaj w moim API!\"})\n",
        "\n",
        "if __name__ == '__main__':\n",
        "    app.run()"
      ]
    },
    {
      "cell_type": "markdown",
      "id": "e2af6c95-3ee1-41c3-8781-50e1b80f2f17",
      "metadata": {
        "id": "e2af6c95-3ee1-41c3-8781-50e1b80f2f17"
      },
      "source": [
        "Teraz uruchom API w terminalu, wpisując:\n",
        "```sh\n",
        "python app.py\n",
        "```\n",
        "Flask uruchomi serwer lokalnie pod adresem `http://127.0.0.1:5000/`."
      ]
    },
    {
      "cell_type": "markdown",
      "id": "b6dbfd19-a621-45bc-aadf-5cd9a71e6eaf",
      "metadata": {
        "id": "b6dbfd19-a621-45bc-aadf-5cd9a71e6eaf"
      },
      "source": [
        "### **Sprawdzenie działania API**\n",
        "W Jupyter Notebooku wykonaj zapytanie GET do strony głównej. Na podstawie pola `status_code` napisz wyrażenie warunkowe które dla status_code 200 wyświetli zawartość odpowiedzi (z pola `content`)."
      ]
    },
    {
      "cell_type": "code",
      "execution_count": 19,
      "id": "f292293f-29e8-488e-b681-91eef946a0c6",
      "metadata": {
        "colab": {
          "base_uri": "https://localhost:8080/"
        },
        "id": "f292293f-29e8-488e-b681-91eef946a0c6",
        "outputId": "f8d76232-916f-4614-b963-da9979883d2c"
      },
      "outputs": [
        {
          "output_type": "stream",
          "name": "stdout",
          "text": [
            "Witaj w moim API!\n"
          ]
        }
      ],
      "source": [
        "import requests\n",
        "\n",
        "response = requests.get(\"http://127.0.0.1:5000/\")\n",
        "if response.status_code == 200:\n",
        "    print(response.content.decode())"
      ]
    },
    {
      "cell_type": "markdown",
      "id": "90f91405-edaf-458c-96b3-1e03c5b6c56b",
      "metadata": {
        "id": "90f91405-edaf-458c-96b3-1e03c5b6c56b"
      },
      "source": [
        "Jeśli wszystko działa poprawnie, zobaczysz komunikat `Witaj w moim API!`.\n",
        "---\n",
        "\n",
        "## **2️⃣ Dodanie nowej podstrony**\n",
        "Dodajmy nową podstronę `mojastrona`, która zwróci komunikat `To jest moja strona!`."
      ]
    },
    {
      "cell_type": "code",
      "execution_count": null,
      "id": "901da667-f30f-4520-88e2-981c3cd07845",
      "metadata": {
        "colab": {
          "base_uri": "https://localhost:8080/"
        },
        "id": "901da667-f30f-4520-88e2-981c3cd07845",
        "outputId": "bda37469-e98a-4e4d-daf3-7adfdd190ab5"
      },
      "outputs": [
        {
          "output_type": "stream",
          "name": "stdout",
          "text": [
            "Overwriting app.py\n"
          ]
        }
      ],
      "source": [
        "%%file app.py\n",
        "from flask import Flask, request, jsonify\n",
        "\n",
        "app = Flask(__name__)\n",
        "\n",
        "@app.route('/')\n",
        "def home():\n",
        "    return 'Witaj w moim API!'\n",
        "\n",
        "@app.route('/mojastrona')\n",
        "def mojastrona():\n",
        "    return 'To jest moja strona!'\n",
        "\n",
        "if __name__ == '__main__':\n",
        "    app.run()\n"
      ]
    },
    {
      "cell_type": "markdown",
      "id": "e7bb7b21-a725-4de8-b154-2f1484bc97f5",
      "metadata": {
        "id": "e7bb7b21-a725-4de8-b154-2f1484bc97f5"
      },
      "source": [
        "Ponownie uruchom API i wykonaj zapytanie do strony `\"http://127.0.0.1:5000/mojastrona\"`:"
      ]
    },
    {
      "cell_type": "code",
      "execution_count": 20,
      "id": "c3ceade1-8619-4684-ac7c-a1b91bd0e871",
      "metadata": {
        "colab": {
          "base_uri": "https://localhost:8080/"
        },
        "id": "c3ceade1-8619-4684-ac7c-a1b91bd0e871",
        "outputId": "bb2d05c9-38f8-437c-c1ab-4d105fcb3f8d"
      },
      "outputs": [
        {
          "output_type": "stream",
          "name": "stdout",
          "text": [
            "To jest moja strona!\n"
          ]
        }
      ],
      "source": [
        "response = requests.get(\"http://127.0.0.1:5000/mojastrona\")\n",
        "if response.status_code == 200:\n",
        "    print(response.content.decode())"
      ]
    },
    {
      "cell_type": "markdown",
      "id": "a13f3e1e-1689-4e19-9984-54e6e8602b67",
      "metadata": {
        "id": "a13f3e1e-1689-4e19-9984-54e6e8602b67"
      },
      "source": [
        "Powinieneś zobaczyć: `To jest moja strona!`\n",
        "\n",
        "---\n",
        "\n",
        "## **3️⃣ Automatyczne uruchamianie serwera z Jupyter Notebook**\n",
        "Zamknij wcześniej uruchomiony serwer (`Ctrl+C` w terminalu) i uruchom go ponownie bezpośrednio z Jupyter Notebook, korzystając z `subprocess.Popen`:"
      ]
    },
    {
      "cell_type": "code",
      "execution_count": 17,
      "id": "b5aef41b-f747-4949-a676-a8b49de88c7f",
      "metadata": {
        "id": "b5aef41b-f747-4949-a676-a8b49de88c7f"
      },
      "outputs": [],
      "source": [
        "import subprocess\n",
        "\n",
        "server = subprocess.Popen([\"python\", \"app.py\"])"
      ]
    },
    {
      "cell_type": "markdown",
      "id": "6507101d-4f43-483a-a43d-2c07a3a9d23a",
      "metadata": {
        "id": "6507101d-4f43-483a-a43d-2c07a3a9d23a"
      },
      "source": [
        "Po testach zamknij serwer wykorzystując metodę `kill`:\n"
      ]
    },
    {
      "cell_type": "code",
      "execution_count": 23,
      "id": "74fdcc71-fbcb-4602-804b-92458fab18df",
      "metadata": {
        "id": "74fdcc71-fbcb-4602-804b-92458fab18df"
      },
      "outputs": [],
      "source": [
        "server.kill()"
      ]
    },
    {
      "cell_type": "markdown",
      "id": "6a02adf4-8ac0-4e3c-b1ee-0a9e1cc8933f",
      "metadata": {
        "id": "6a02adf4-8ac0-4e3c-b1ee-0a9e1cc8933f"
      },
      "source": [
        "---\n",
        "\n",
        "## **4️⃣ Obsługa parametrów w adresie URL**\n",
        "Dodajemy nową podstronę `/hello`, która będzie przyjmować parametr `name`.\n",
        "\n",
        "Edytuj `app.py`, dodając odpowiedni  kod\n"
      ]
    },
    {
      "cell_type": "code",
      "execution_count": null,
      "id": "9e42700e-e83a-4a2b-b4e8-164827a6994f",
      "metadata": {
        "id": "9e42700e-e83a-4a2b-b4e8-164827a6994f"
      },
      "outputs": [],
      "source": [
        "%%file app.py\n",
        "from flask import Flask, request, jsonify\n",
        "\n",
        "app = Flask(__name__)\n",
        "\n",
        "@app.route('/')\n",
        "def home():\n",
        "    return 'Witaj w moim API!'\n",
        "\n",
        "@app.route('/mojastrona')\n",
        "def mojastrona():\n",
        "    return 'To jest moja strona!'\n",
        "\n",
        "@app.route('/hello')\n",
        "def hello():\n",
        "    name = request.args.get(\"name\", \"\")\n",
        "    if name:\n",
        "        return f\"Hello {name}!\"\n",
        "    else:\n",
        "        return \"Hello!\"\n",
        "\n",
        "if __name__ == '__main__':\n",
        "    app.run()\n"
      ]
    },
    {
      "cell_type": "code",
      "source": [
        "res1 = requests.get(\"http://127.0.0.1:5000/hello\")\n",
        "print(res1.content)  # Powinno zwrócić \"Hello!\"\n",
        "\n",
        "res2 = requests.get(\"http://127.0.0.1:5000/hello?name=Krzysztof\")\n",
        "print(res2.content)  # Powinno zwrócić \"Hello Sebastian!\""
      ],
      "metadata": {
        "colab": {
          "base_uri": "https://localhost:8080/"
        },
        "id": "vpBw0pGrbucK",
        "outputId": "b57bd995-aa8c-4e17-edf2-578e493a75f9"
      },
      "id": "vpBw0pGrbucK",
      "execution_count": 21,
      "outputs": [
        {
          "output_type": "stream",
          "name": "stdout",
          "text": [
            "b'Hello!'\n",
            "b'Hello Krzysztof!'\n"
          ]
        }
      ]
    },
    {
      "cell_type": "markdown",
      "id": "bb1f2e04-4bed-4a70-8131-b2f25f343962",
      "metadata": {
        "id": "bb1f2e04-4bed-4a70-8131-b2f25f343962"
      },
      "source": [
        "Uruchom serwer i sprawdź działanie API:\n",
        "```python\n",
        "res1 = requests.get(\"http://127.0.0.1:5000/hello\")\n",
        "print(res1.content)  # Powinno zwrócić \"Hello!\"\n",
        "\n",
        "res2 = requests.get(\"http://127.0.0.1:5000/hello?name=Sebastian\")\n",
        "print(res2.content)  # Powinno zwrócić \"Hello Sebastian!\"\n",
        "```\n",
        "\n",
        "---"
      ]
    },
    {
      "cell_type": "markdown",
      "id": "fc1ae653-8609-49f7-a992-3ff437f96700",
      "metadata": {
        "id": "fc1ae653-8609-49f7-a992-3ff437f96700"
      },
      "source": [
        "## **5️⃣ Tworzenie API z prostym modelem ML**\n",
        "Stworzymy nową podstronę `/api/v1.0/predict`, która przyjmuje dwie liczby i zwraca wynik reguły decyzyjnej:\n",
        "- Jeśli suma dwóch liczb jest większa niż 5.8, zwraca `1`.\n",
        "- W przeciwnym razie zwraca `0`.\n"
      ]
    },
    {
      "cell_type": "code",
      "source": [
        "%%file app.py\n",
        "from flask import Flask, request, jsonify\n",
        "\n",
        "app = Flask(__name__)\n",
        "\n",
        "@app.route('/')\n",
        "def home():\n",
        "    return 'Witaj w moim API!'\n",
        "\n",
        "@app.route('/mojastrona')\n",
        "def mojastrona():\n",
        "    return 'To jest moja strona!'\n",
        "\n",
        "@app.route('/hello')\n",
        "def hello():\n",
        "    name = request.args.get(\"name\", \"\")\n",
        "    return f\"Hello {name}!\" if name else \"Hello!\"\n",
        "\n",
        "@app.route('/api/v1.0/predict')\n",
        "def predict():\n",
        "    try:\n",
        "        num1 = float(request.args.get(\"num1\", 0))\n",
        "        num2 = float(request.args.get(\"num2\", 0))\n",
        "        result = 1 if (num1 + num2) > 5.8 else 0\n",
        "        return jsonify({\n",
        "            \"prediction\": result,\n",
        "            \"features\": {\n",
        "                \"num1\": num1,\n",
        "                \"num2\": num2\n",
        "            }\n",
        "        })\n",
        "    except:\n",
        "        return jsonify({\"error\": \"Błędne dane\"}), 400\n",
        "\n",
        "if __name__ == '__main__':\n",
        "    app.run()\n"
      ],
      "metadata": {
        "colab": {
          "base_uri": "https://localhost:8080/"
        },
        "id": "UByLJuLDb1VO",
        "outputId": "2d57f510-ce88-49dc-d8a2-311e8ecae6bd"
      },
      "id": "UByLJuLDb1VO",
      "execution_count": 16,
      "outputs": [
        {
          "output_type": "stream",
          "name": "stdout",
          "text": [
            "Overwriting app.py\n"
          ]
        }
      ]
    },
    {
      "cell_type": "code",
      "source": [
        "res = requests.get(\"http://127.0.0.1:5000/api/v1.0/predict?num1=3&num2=4\")\n",
        "print(res.json())  # Powinno zwrócić {\"prediction\": 1, \"features\": {\"num1\": 3.0, \"num2\": 4.0}}"
      ],
      "metadata": {
        "colab": {
          "base_uri": "https://localhost:8080/"
        },
        "id": "uWEn0CKKb89o",
        "outputId": "c30b9f27-c66e-437d-f96c-e620ec727726"
      },
      "id": "uWEn0CKKb89o",
      "execution_count": 22,
      "outputs": [
        {
          "output_type": "stream",
          "name": "stdout",
          "text": [
            "{'features': {'num1': 3.0, 'num2': 4.0}, 'prediction': 1}\n"
          ]
        }
      ]
    },
    {
      "cell_type": "markdown",
      "id": "4ef4b5a6-387e-4d2e-b4e3-a716e5c885f5",
      "metadata": {
        "id": "4ef4b5a6-387e-4d2e-b4e3-a716e5c885f5"
      },
      "source": [
        "Sprawdź działanie API:\n",
        "```python\n",
        "res = requests.get(\"http://127.0.0.1:5000/api/v1.0/predict?num1=3&num2=4\")\n",
        "print(res.json())  # Powinno zwrócić {\"prediction\": 1, \"features\": {\"num1\": 3.0, \"num2\": 4.0}}\n",
        "```\n",
        "\n",
        "---\n",
        "\n",
        "## **Podsumowanie**\n",
        "Po wykonaniu tego ćwiczenia studenci będą umieli:\n",
        "✅ Tworzyć podstawowe API w Flasku.  \n",
        "✅ Dodawać podstrony i obsługiwać parametry URL.  \n",
        "✅ Wysyłać zapytania GET i analizować odpowiedzi.  \n",
        "✅ Automatycznie uruchamiać serwer z Jupyter Notebook.  \n",
        "✅ Implementować prosty model decyzyjny w API.  \n",
        "\n",
        "Gotowi na kolejne wyzwania? 🚀"
      ]
    },
    {
      "cell_type": "code",
      "execution_count": null,
      "id": "2a08af6f-f126-45bd-acc6-a4f243c54ed6",
      "metadata": {
        "id": "2a08af6f-f126-45bd-acc6-a4f243c54ed6"
      },
      "outputs": [],
      "source": []
    }
  ],
  "metadata": {
    "kernelspec": {
      "display_name": "Python 3 (ipykernel)",
      "language": "python",
      "name": "python3"
    },
    "language_info": {
      "codemirror_mode": {
        "name": "ipython",
        "version": 3
      },
      "file_extension": ".py",
      "mimetype": "text/x-python",
      "name": "python",
      "nbconvert_exporter": "python",
      "pygments_lexer": "ipython3",
      "version": "3.11.6"
    },
    "colab": {
      "provenance": []
    }
  },
  "nbformat": 4,
  "nbformat_minor": 5
}